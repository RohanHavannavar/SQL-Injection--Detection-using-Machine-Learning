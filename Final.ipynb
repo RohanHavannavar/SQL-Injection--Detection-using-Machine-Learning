{
 "cells": [
  {
   "cell_type": "markdown",
   "metadata": {},
   "source": [
    "<h1> 5.0 Creating Pipelines </h1>"
   ]
  },
  {
   "cell_type": "markdown",
   "metadata": {},
   "source": [
    "- In this notebook will create two functions i.e function_1 and function_2 \n",
    "- In function_1 will create entire pipeline to predict the output i.e for any given query will predict the output of it.\n",
    "- In function_2 will create entire pipeline to output the performance metric "
   ]
  },
  {
   "cell_type": "code",
   "execution_count": 1,
   "metadata": {},
   "outputs": [],
   "source": [
    "#importing neccessary libraries\n",
    "import warnings\n",
    "warnings.filterwarnings(\"ignore\")\n",
    "import re\n",
    "from sklearn.feature_extraction.text import CountVectorizer\n",
    "from scipy.sparse import hstack\n",
    "import pickle\n",
    "import joblib\n",
    "import pandas as pd\n",
    "import numpy as np\n",
    "from sklearn.preprocessing import StandardScaler\n",
    "from sklearn.metrics import f1_score,confusion_matrix\n",
    "import matplotlib.pyplot as plt\n",
    "import seaborn as sns"
   ]
  },
  {
   "cell_type": "code",
   "execution_count": 2,
   "metadata": {},
   "outputs": [],
   "source": [
    "#first will load the countvectorizer of unigram bow\n",
    "with open('train_bow','rb') as f:\n",
    "    train_bow = pickle.load(f)"
   ]
  },
  {
   "cell_type": "code",
   "execution_count": 3,
   "metadata": {},
   "outputs": [],
   "source": [
    "#to print the classification metrics\n",
    "def plot_confusion_matrix(test_y, predict_y):\n",
    "    C = confusion_matrix(test_y, predict_y)\n",
    "    A =(((C.T)/(C.sum(axis=1))).T)\n",
    "    B =(C/C.sum(axis=0))\n",
    "    labels = [0,1]\n",
    "    plt.figure(figsize = (20,5))\n",
    "    # representing A in heatmap format\n",
    "    cmap=sns.light_palette(\"blue\")\n",
    "    plt.subplot(1, 3, 1)\n",
    "    sns.heatmap(C, annot=True, cmap=cmap, fmt=\".3f\", xticklabels=labels, yticklabels=labels)\n",
    "    plt.xlabel('Predicted Class')\n",
    "    plt.ylabel('Original Class')\n",
    "    plt.title(\"Confusion matrix\")\n",
    "    \n",
    "    plt.subplot(1, 3, 2)\n",
    "    sns.heatmap(B, annot=True, cmap=cmap, fmt=\".3f\", xticklabels=labels, yticklabels=labels)\n",
    "    plt.xlabel('Predicted Class')\n",
    "    plt.ylabel('Original Class')\n",
    "    plt.title(\"Precision matrix\")\n",
    "    \n",
    "    plt.subplot(1, 3, 3)\n",
    "    # representing B in heatmap format\n",
    "    sns.heatmap(A, annot=True, cmap=cmap, fmt=\".3f\", xticklabels=labels, yticklabels=labels)\n",
    "    plt.xlabel('Predicted Class')\n",
    "    plt.ylabel('Original Class')\n",
    "    plt.title(\"Recall matrix\")\n",
    "    \n",
    "    \n",
    "    \n",
    "    plt.show()\n",
    "    print(\"f1-score on the data is  {}\".format(f1_score(test_y,predict_y)))"
   ]
  },
  {
   "cell_type": "markdown",
   "metadata": {},
   "source": [
    "<h2> 5.1 Function_1 will output the prediction whether it belongs to class 1 or class 0 for a given SQL Query </h2>"
   ]
  },
  {
   "cell_type": "code",
   "execution_count": 4,
   "metadata": {},
   "outputs": [],
   "source": [
    "def preprocess(query):\n",
    "    preprocessed_query = []\n",
    "    \n",
    "    def process(x,pattern):\n",
    "        r = re.compile(pattern)\n",
    "        l = r.findall(x)\n",
    "        return len(l)\n",
    "    \n",
    "    def combined_keywords(x):\n",
    "        r = re.compile(r'null')\n",
    "        m = re.compile(r'chr')\n",
    "        n = re.compile(r'char')\n",
    "        l = r.findall(x)\n",
    "        k = m.findall(x)\n",
    "        j = n.findall(x)\n",
    "        return len(l) + len(k) + len(j)\n",
    "    \n",
    "    def genuine(x):\n",
    "        count = 0\n",
    "        genuine_keys = ['select','top','order','fetch','join','avg','count','sum','rows']\n",
    "        for i in x.split():\n",
    "            if(i in genuine_keys):\n",
    "                count = count + 1\n",
    "        return count\n",
    "    \n",
    "    preprocessed_query.append(process(query,\"'\"))\n",
    "    preprocessed_query.append(process(query,'\"'))\n",
    "    preprocessed_query.append(process(query,\"[!\\\"#$%&\\'()*+,-.\\/:;<=>?@[\\\\]^_`{|}~]\"))\n",
    "    preprocessed_query.append(process(query,'(--)'))\n",
    "    preprocessed_query.append(process(query,'(\\/\\*)'))\n",
    "    preprocessed_query.append(process(query,'\\s+'))\n",
    "    preprocessed_query.append(process(query,\"%\"))\n",
    "    preprocessed_query.append(process(query,'\\snot\\s|\\sand\\s|\\sor\\s|\\sxor\\s|&&|\\|\\||!'))\n",
    "    preprocessed_query.append(process(query,\"'\\+|-|[^\\/]\\*|\\/[^\\*]'\"))\n",
    "    preprocessed_query.append(process(query,\"null\"))\n",
    "    preprocessed_query.append(process(query,'0[xX][0-9a-fA-F]+\\s'))\n",
    "    preprocessed_query.append(process(query,'[a-zA-Z]'))\n",
    "    preprocessed_query.append(process(query,'[0-9]'))\n",
    "    preprocessed_query.append(combined_keywords(query))\n",
    "    preprocessed_query.append(genuine(query))\n",
    "    \n",
    "    return preprocessed_query\n",
    "    \n",
    "    "
   ]
  },
  {
   "cell_type": "code",
   "execution_count": 7,
   "metadata": {},
   "outputs": [],
   "source": [
    "def final_function_1(query):\n",
    "    li = []\n",
    "    query = query.lower()#converting query to lowercase\n",
    "    arr = preprocess(query)#preprocessing the query\n",
    "    li.append(query)\n",
    "    unigram_bow = train_bow.transform(li)\n",
    "    \n",
    "    combine = hstack((unigram_bow,arr))\n",
    "    \n",
    "    #loading the model\n",
    "    xgboost_model = joblib.load('saved_model_unigram_bow.pkl')\n",
    "    \n",
    "    #predicting the output from the loaded model\n",
    "    predict = xgboost_model.predict(combine)\n",
    "    \n",
    "    for i in predict:\n",
    "        if(i == 1):\n",
    "              print(\"the query passed belongs to class {} i.e the query is SQL injection query\".format(i))\n",
    "        else:\n",
    "              print(\"the query passed belongs to class {} i.e the query is not a  SQL injection query\".format(i))\n",
    "    \n",
    "    \n",
    "\n",
    "    "
   ]
  },
  {
   "cell_type": "code",
   "execution_count": 8,
   "metadata": {},
   "outputs": [
    {
     "name": "stdout",
     "output_type": "stream",
     "text": [
      "the query passed belongs to class 1 i.e the query is SQL injection query\n"
     ]
    }
   ],
   "source": [
    "final_function_1(\"select   (  case when   (  1275  =  7674  )   then 1275 else 1275*  (  select 1275 from information_schema.character_sets  )   end  )  #\")\n",
    "    "
   ]
  },
  {
   "cell_type": "code",
   "execution_count": 9,
   "metadata": {},
   "outputs": [],
   "source": [
    "#define the function_1\n",
    "def function_1(query):\n",
    "    '''\n",
    "    query parameter is a list of queries given to predict that it is Sql injection or not.\n",
    "    \n",
    "    '''\n",
    "    #first will create the dataframe for list of queries\n",
    "    data = pd.DataFrame()\n",
    "    data['Query'] = query\n",
    "    \n",
    "    #convert the query to lowercase sentence\n",
    "    data['Query'] = data['Query'].apply(lambda x : x.lower())\n",
    "    \n",
    "                \n",
    "    #number of single quotation in a query\n",
    "    def single_qt(x):\n",
    "        r = re.compile(r\"'\")\n",
    "        l = r.findall(x)\n",
    "        return len(l)\n",
    "    data['no_single_qts'] = data['Query'].apply(single_qt)\n",
    "\n",
    "\n",
    "    #number of double quotation in a query\n",
    "    def double_qt(x):\n",
    "        r = re.compile(r'\"')\n",
    "        l = r.findall(x)\n",
    "        return len(l)\n",
    "    data['no_double_qts'] = data['Query'].apply(double_qt)\n",
    "\n",
    "     #number of punctuations \n",
    "    def punctuation(x):\n",
    "        r = re.compile(\"[!\\\"#$%&\\'()*+,-.\\/:;<=>?@[\\\\]^_`{|}~]\")\n",
    "        l = r.findall(x)\n",
    "        return len(l)\n",
    "    data['no_punct'] = data['Query'].apply(punctuation)\n",
    "\n",
    "\n",
    "    #number of single line comment\n",
    "    def sin_comm(x):\n",
    "        r = re.compile(r'(--)')\n",
    "        l = r.findall(x)\n",
    "        return len(l)\n",
    "    data['no_single_cmnt'] = data['Query'].apply(sin_comm)\n",
    "\n",
    "    #number of multiline comments\n",
    "    def mult_comm(x):\n",
    "        r = re.compile(r'(\\/\\*)')\n",
    "        l = r.findall(x)\n",
    "        return len(l)\n",
    "    data['no_mult_cmnt'] = data['Query'].apply(mult_comm)\n",
    "\n",
    "\n",
    "     #number of white spaces in a query\n",
    "    def space(x):\n",
    "        r = re.compile(r'\\s+')\n",
    "        l = r.findall(x)\n",
    "        return len(l)\n",
    "    data['no_space'] = data['Query'].apply(space) \n",
    "\n",
    "\n",
    "     #number of percentage(%) symbols in a query.\n",
    "    def perc(x):\n",
    "        r = re.compile(r'%')\n",
    "        l = r.findall(x)\n",
    "        return len(l)\n",
    "    data['no_perc'] = data['Query'].apply(perc)\n",
    "\n",
    "\n",
    "      #total number of logical operator in a query\n",
    "         #logical operators are and,or,not,xor,&&,||,!\n",
    "      #https://stackoverflow.com/questions/43079182/how-to-find-logic-operators-in-string-with-regex\n",
    "    def logical(x):\n",
    "        r = re.compile(r'\\snot\\s|\\sand\\s|\\sor\\s|\\sxor\\s|&&|\\|\\||!')\n",
    "        l = r.findall(x)\n",
    "        return len(l)\n",
    "    data['no_log_opt'] = data['Query'].apply(logical)\n",
    "\n",
    "\n",
    "      #total number of arithmetic operators\n",
    "    def arithmetic(x):\n",
    "        r = re.compile(r'\\+|-|[^\\/]\\*|\\/[^\\*]')\n",
    "        l = r.findall(x)\n",
    "        return len(l)\n",
    "    data['no_arith'] = data['Query'].apply(arithmetic)\n",
    "\n",
    "\n",
    "       #number of null values in a query\n",
    "    def null_val(x):\n",
    "        r = re.compile(r'null')\n",
    "        l = r.findall(x)\n",
    "        return len(l)\n",
    "    data['no_null'] = data['Query'].apply(null_val)\n",
    "\n",
    "\n",
    "     #number of hexadecimal values\n",
    "    def hexa(x):\n",
    "        r = re.compile(r'0[xX][0-9a-fA-F]+\\s')\n",
    "        l = r.findall(x)\n",
    "        return len(l)\n",
    "    data['no_hexa'] = data['Query'].apply(hexa)\n",
    "\n",
    "\n",
    "    #number of alphabets\n",
    "    def alphabet(x):\n",
    "        r = re.compile(r'[a-zA-Z]')\n",
    "        l = r.findall(x)\n",
    "        return len(l)\n",
    "    data['no_alpha'] = data['Query'].apply(alphabet)\n",
    "\n",
    "\n",
    "     #number of digits\n",
    "    def digit(x):\n",
    "        r = re.compile(r'[0-9]')\n",
    "        l = r.findall(x)\n",
    "        return len(l)\n",
    "    data['no_digit']  =data['Query'].apply(digit)\n",
    "\n",
    "\n",
    "       #length of chr+char+null keywords\n",
    "    def combined_keywords(x):\n",
    "        r = re.compile(r'null')\n",
    "        m = re.compile(r'chr')\n",
    "        n = re.compile(r'char')\n",
    "        l = r.findall(x)\n",
    "        k = m.findall(x)\n",
    "        j = n.findall(x)\n",
    "        return len(l) + len(k) + len(j)\n",
    "    data['len_of_chr_char_null'] = data['Query'].apply(combined_keywords)\n",
    "\n",
    "\n",
    "     #genuine_keywords\n",
    "     #genuine keywords are based on wordclouds : select,top,order,fetch,join,avg,count,sum,rows.\n",
    "     #will check how many number of these keywords are present in each query.\n",
    "\n",
    "    def genuine(x):\n",
    "        count = 0\n",
    "        genuine_keys = ['select','top','order','fetch','join','avg','count','sum','rows']\n",
    "        for i in x.split():\n",
    "            if(i in genuine_keys):\n",
    "                count = count + 1\n",
    "        return count\n",
    "\n",
    "    data['genuine_keywords'] = data['Query'].apply(genuine)\n",
    "        \n",
    "    #because in the model building we come to know that unigram BOW encoding provides better f1-score\n",
    "    unigram_bow = train_bow.transform(data['Query'].values)\n",
    "    \n",
    " \n",
    "    #finally will concatenate unigram_bow and above generated features\n",
    "    data_bow_unigram = hstack((unigram_bow,np.array(data['no_single_qts']).reshape(-1,1),np.array(data['no_double_qts']).reshape(-1,1),np.array(data['no_punct']).reshape(-1,1),np.array(data['no_single_cmnt']).reshape(-1,1),np.array(data['no_mult_cmnt']).reshape(-1,1),np.array(data['no_space']).reshape(-1,1),np.array(data['no_perc']).reshape(-1,1),np.array(data['no_log_opt']).reshape(-1,1),np.array(data['no_arith']).reshape(-1,1),np.array(data['no_null']).reshape(-1,1),np.array(data['no_hexa']).reshape(-1,1),np.array(data['no_alpha']).reshape(-1,1),np.array(data['no_digit']).reshape(-1,1),np.array(data['len_of_chr_char_null']).reshape(-1,1),np.array(data['genuine_keywords']).reshape(-1,1)))\n",
    "    #loading the XGboost model for unigram bow encoding\n",
    "    xgboost_model = joblib.load('saved_model_unigram_bow.pkl')\n",
    "    \n",
    "    #predicting the output from the loaded model\n",
    "    predict = xgboost_model.predict(data_bow_unigram)\n",
    "    \n",
    "    for i in range(len(predict)):\n",
    "        if(predict[i] == 1):\n",
    "            print(\"the {} query passed belongs to class {} i.e the query is SQL injection query\".format(i,predict[i]))\n",
    "        else:\n",
    "            print(\"the {} query passed belongs to class {} i.e the query is not a  SQL injection query\".format(i,predict[i]))\n",
    "        \n",
    "    return predict\n",
    "\n"
   ]
  },
  {
   "cell_type": "code",
   "execution_count": 11,
   "metadata": {},
   "outputs": [
    {
     "name": "stdout",
     "output_type": "stream",
     "text": [
      "the 0 query passed belongs to class 1 i.e the query is SQL injection query\n",
      "the 1 query passed belongs to class 0 i.e the query is not a  SQL injection query\n",
      "the 2 query passed belongs to class 0 i.e the query is not a  SQL injection query\n"
     ]
    },
    {
     "data": {
      "text/plain": [
       "array([1, 0, 0], dtype=int64)"
      ]
     },
     "execution_count": 11,
     "metadata": {},
     "output_type": "execute_result"
    }
   ],
   "source": [
    "function_1([\"create user name identified by pass123 temporary tablespace temp default tablespace users;\",\" or pg_sleep ( __TIME__ ) --\",\"SELECT sure FROM silent UNION SELECT sides FROM excellent ORDER BY wing\"])"
   ]
  },
  {
   "cell_type": "markdown",
   "metadata": {},
   "source": [
    "<h2> 5.2 function_2 will output the classification metrics for given list of query and labels </h2>"
   ]
  },
  {
   "cell_type": "code",
   "execution_count": 48,
   "metadata": {},
   "outputs": [],
   "source": [
    "def final_function_2(data):\n",
    "    '''\n",
    "    data parameter is a list of tuples where 1st argument is sql query and respective labels\n",
    "    \n",
    "    '''\n",
    "    \n",
    "    #first will separate query and labels store it in separate lists\n",
    "    query = []\n",
    "    labels = []\n",
    "    for i in data:\n",
    "        query.append(i[0])\n",
    "        labels.append(i[1])\n",
    "    \n",
    "    #will call function_1 on above query lists to get predicted labels\n",
    "    pred_labels = function_1(query)\n",
    "    plot_confusion_matrix(labels,pred_labels)\n",
    "    "
   ]
  },
  {
   "cell_type": "code",
   "execution_count": 49,
   "metadata": {},
   "outputs": [
    {
     "name": "stdout",
     "output_type": "stream",
     "text": [
      "the 0 query passed belongs to class 1 i.e the query is SQL injection query\n",
      "the 1 query passed belongs to class 1 i.e the query is SQL injection query\n",
      "the 2 query passed belongs to class 0 i.e the query is not a  SQL injection query\n",
      "the 3 query passed belongs to class 1 i.e the query is SQL injection query\n",
      "the 4 query passed belongs to class 0 i.e the query is not a  SQL injection query\n",
      "the 5 query passed belongs to class 0 i.e the query is not a  SQL injection query\n"
     ]
    },
    {
     "data": {
      "image/png": "[encoded data removed]",
      "text/plain": [
       "<Figure size 1440x360 with 6 Axes>"
      ]
     },
     "metadata": {
      "needs_background": "light"
     },
     "output_type": "display_data"
    },
    {
     "name": "stdout",
     "output_type": "stream",
     "text": [
      "f1-score on the data is  1.0\n"
     ]
    }
   ],
   "source": [
    "#calling the function_2 method to print the classification metrics\n",
    "#first will create list of tuples of queries and labels\n",
    "\n",
    "data = [(\"create user name identified by pass123 temporary tablespace temp default tablespace users;\",1),\n",
    "        (\" or pg_sleep ( __TIME__ ) --\",1),\n",
    "        (\"SELECT sure FROM silent UNION SELECT sides FROM excellent ORDER BY wing\",0),\n",
    "        ('select   (  case when   (  1275  =  7674  )   then 1275 else 1275*  (  select 1275 from information_schema.character_sets  )   end  )  #',1),\n",
    "        ('otia',0),\n",
    "        ('joudrey',0)]\n",
    "         \n",
    "final_function_2(data)"
   ]
  },
  {
   "cell_type": "code",
   "execution_count": null,
   "metadata": {},
   "outputs": [],
   "source": []
  }
 ],
 "metadata": {
  "kernelspec": {
   "display_name": "Python 3",
   "language": "python",
   "name": "python3"
  },
  "language_info": {
   "codemirror_mode": {
    "name": "ipython",
    "version": 3
   },
   "file_extension": ".py",
   "mimetype": "text/x-python",
   "name": "python",
   "nbconvert_exporter": "python",
   "pygments_lexer": "ipython3",
   "version": "3.7.6"
  }
 },
 "nbformat": 4,
 "nbformat_minor": 4
}
